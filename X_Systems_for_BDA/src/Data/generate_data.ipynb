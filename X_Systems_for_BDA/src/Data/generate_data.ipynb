{
  "nbformat": 4,
  "nbformat_minor": 0,
  "metadata": {
    "colab": {
      "name": "test.ipynb",
      "provenance": [],
      "collapsed_sections": []
    },
    "kernelspec": {
      "name": "python3",
      "display_name": "Python 3"
    }
  },
  "cells": [
    {
      "cell_type": "code",
      "metadata": {
        "id": "zbLA-9gWJQ8D",
        "outputId": "581229bc-94fe-4d5c-b758-b0c1e84ee0ae",
        "colab": {
          "base_uri": "https://localhost:8080/",
          "height": 68
        }
      },
      "source": [
        "##this code is run on colab\n",
        "\n",
        "from google.colab import drive\n",
        "drive.mount('/content/drive', force_remount=True)\n",
        "\n",
        "import os\n",
        "os.chdir(\"/content/drive/My Drive/\")\n",
        "!ls\n",
        "\n",
        "\n",
        "import seaborn as sns\n",
        "import matplotlib.pyplot as plt\n",
        "\n",
        "from tqdm import tqdm\n",
        "import pandas as pd\n",
        "import numpy as np"
      ],
      "execution_count": 2,
      "outputs": [
        {
          "output_type": "stream",
          "text": [
            "Mounted at /content/drive\n",
            "'Colab Notebooks'\t\t    Customers.csv\t  Products.csv\n",
            "'Copie de dataset_1_no_index.csv'   dataset_1_index.csv\n"
          ],
          "name": "stdout"
        }
      ]
    },
    {
      "cell_type": "code",
      "metadata": {
        "id": "vvJ3Mx_en_Dz",
        "outputId": "3180786a-44ac-4edf-dcd6-dc182138910b",
        "colab": {
          "base_uri": "https://localhost:8080/",
          "height": 49
        }
      },
      "source": [
        "##we get the customers and products tabmle\n",
        "df_customers = pd.read_csv(\"Customers.csv\")\n",
        "df_products = pd.read_csv(\"Products.csv\")\n",
        "\n",
        "##we create an empty dataframe\n",
        "cols=['CustomerId', 'CustomerName', 'CustomerAge', 'ProductId','ProductName','ProductPrice','PurchaseId']\n",
        "df = pd.DataFrame(columns=cols)\n",
        "df"
      ],
      "execution_count": 3,
      "outputs": [
        {
          "output_type": "execute_result",
          "data": {
            "text/html": [
              "<div>\n",
              "<style scoped>\n",
              "    .dataframe tbody tr th:only-of-type {\n",
              "        vertical-align: middle;\n",
              "    }\n",
              "\n",
              "    .dataframe tbody tr th {\n",
              "        vertical-align: top;\n",
              "    }\n",
              "\n",
              "    .dataframe thead th {\n",
              "        text-align: right;\n",
              "    }\n",
              "</style>\n",
              "<table border=\"1\" class=\"dataframe\">\n",
              "  <thead>\n",
              "    <tr style=\"text-align: right;\">\n",
              "      <th></th>\n",
              "      <th>CustomerId</th>\n",
              "      <th>CustomerName</th>\n",
              "      <th>CustomerAge</th>\n",
              "      <th>ProductId</th>\n",
              "      <th>ProductName</th>\n",
              "      <th>ProductPrice</th>\n",
              "      <th>PurchaseId</th>\n",
              "    </tr>\n",
              "  </thead>\n",
              "  <tbody>\n",
              "  </tbody>\n",
              "</table>\n",
              "</div>"
            ],
            "text/plain": [
              "Empty DataFrame\n",
              "Columns: [CustomerId, CustomerName, CustomerAge, ProductId, ProductName, ProductPrice, PurchaseId]\n",
              "Index: []"
            ]
          },
          "metadata": {
            "tags": []
          },
          "execution_count": 3
        }
      ]
    },
    {
      "cell_type": "code",
      "metadata": {
        "id": "_rHoO7KopOIA"
      },
      "source": [
        "product_num = np.random.randint(1,10000) #we get a random prdcut\n",
        "customer_num = np.random.randint(1,10000) #and a random customer\n",
        "purchase_num = 1 #we set the purchase ID to 1\n",
        "\n",
        "size=1000000 #the size of the array\n",
        "\n",
        "\n",
        "\n",
        "for i in tqdm(range(size)):\n",
        "\n",
        "    #the probability that a customer buys another product is 0.62\n",
        "    if (np.random.choice(a=[\"same\", \"other\"], p=[0.62, 0.38]) == \"other\"):\n",
        "        purchase_num+=1\n",
        "        customer_num = np.random.randint(1,10000)\n",
        "\n",
        "    product_num = np.random.randint(1,10000)\n",
        "\n",
        "    #we add the created purchase to the array\n",
        "    df = df.append({'CustomerAge' : df_customers.iloc[customer_num].CustomerAge, 'CustomerId' : df_customers.iloc[customer_num].CustomerId, 'CustomerName' : df_customers.iloc[customer_num].CustomerName, \n",
        "                  'ProductId' : df_products.iloc[product_num].ProductId, 'ProductName' : df_products.iloc[product_num].ProductName, 'ProductPrice' : df_products.iloc[product_num].ProductPrice,\n",
        "                  'PurchaseId' : purchase_num}, ignore_index = True)"
      ],
      "execution_count": null,
      "outputs": []
    },
    {
      "cell_type": "code",
      "metadata": {
        "id": "I_-Vr3_kMn9k"
      },
      "source": [
        "#we export the dataset to a csv file\n",
        "df2.to_csv(\"dataset.csv\", index=False)"
      ],
      "execution_count": null,
      "outputs": []
    }
  ]
}