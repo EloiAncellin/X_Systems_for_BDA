{
 "cells": [
  {
   "cell_type": "code",
   "execution_count": 5,
   "metadata": {},
   "outputs": [],
   "source": [
    "# import the libraries\n",
    "\n",
    "import pandas as pd\n",
    "import numpy as np"
   ]
  },
  {
   "cell_type": "code",
   "execution_count": 6,
   "metadata": {},
   "outputs": [
    {
     "name": "stdout",
     "output_type": "stream",
     "text": [
      "[[2995 'Brent Blair' 83 ... 'Dignissim Tempor Corp.' 2226.13 1]\n",
      " [3957 'Upton Matthews' 34 ... 'Cursus Purus Nullam Company' 3887.78 2]\n",
      " [6115 'Edward Moon' 66 ... 'Et Corp.' 2571.88 3]\n",
      " ...\n",
      " [5946 'Chester Edwards' 89 ... 'Lacus Aliquam Rutrum Corporation'\n",
      "  2301.61 79633]\n",
      " [5946 'Chester Edwards' 89 ... 'Pharetra LLP' 2127.54 79633]\n",
      " [274 'Jason James' 44 ... 'Nec Euismod Associates' 596.18 79634]]\n"
     ]
    }
   ],
   "source": [
    "# open a desired .csv file in a np.ndarray\n",
    "\n",
    "data = pd.read_csv(\"//Users//mathieujuttet//Travail//4-M2 Data Science//3-P1//4-Systems for BD//Project//dataset_1_no_index.csv\", delimiter=',')\n",
    "frameddata = np.array(data) #,'CustomerId','CustomerName','ProductId','ProductName','ProductPrice','PurchaseId'])\n",
    "print(frameddata)"
   ]
  },
  {
   "cell_type": "code",
   "execution_count": 7,
   "metadata": {},
   "outputs": [
    {
     "data": {
      "text/plain": [
       "(210010, 7)"
      ]
     },
     "execution_count": 7,
     "metadata": {},
     "output_type": "execute_result"
    }
   ],
   "source": [
    "# veryfying the size of the data\n",
    "\n",
    "frameddata.shape"
   ]
  },
  {
   "cell_type": "code",
   "execution_count": 8,
   "metadata": {},
   "outputs": [
    {
     "name": "stdout",
     "output_type": "stream",
     "text": [
      "[[5002 'Akeem David' 65 ... 'Vivamus Associates' 0.39 73544]\n",
      " [9592 'Malcolm Mcconnell' 79 ... 'Vivamus Associates' 0.39 7204]\n",
      " [7054 'Cooper Ballard' 55 ... 'Vivamus Associates' 0.39 61006]\n",
      " ...\n",
      " [307 'Francis Gentry' 49 ... 'Libero Integer In Incorporated' 4999.45\n",
      "  26150]\n",
      " [7986 'Ignatius Merrill' 19 ... 'Libero Integer In Incorporated' 4999.45\n",
      "  61520]\n",
      " [2902 'Theodore Valencia' 80 ... 'Libero Integer In Incorporated'\n",
      "  4999.45 47135]]\n"
     ]
    }
   ],
   "source": [
    "# sorting the data according to the desired column\n",
    "\n",
    "sorteddata = frameddata[np.argsort(frameddata[:, 5])] \n",
    "print(sorteddata)"
   ]
  },
  {
   "cell_type": "code",
   "execution_count": 27,
   "metadata": {},
   "outputs": [],
   "source": [
    "# exporting back the data as a csv file\n",
    "\n",
    "pd.DataFrame(sorteddata).to_csv(\"//Users//mathieujuttet//Desktop//sorteddata.csv\",index=False, header=False)"
   ]
  }
 ],
 "metadata": {
  "kernelspec": {
   "display_name": "Python 3",
   "language": "python",
   "name": "python3"
  },
  "language_info": {
   "codemirror_mode": {
    "name": "ipython",
    "version": 3
   },
   "file_extension": ".py",
   "mimetype": "text/x-python",
   "name": "python",
   "nbconvert_exporter": "python",
   "pygments_lexer": "ipython3",
   "version": "3.7.6"
  }
 },
 "nbformat": 4,
 "nbformat_minor": 4
}
